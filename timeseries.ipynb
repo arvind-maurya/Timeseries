{
  "nbformat": 4,
  "nbformat_minor": 0,
  "metadata": {
    "colab": {
      "provenance": [],
      "authorship_tag": "ABX9TyOc0MMaz+Aa4gwhJr1rhFfC",
      "include_colab_link": true
    },
    "kernelspec": {
      "name": "ir",
      "display_name": "R"
    },
    "language_info": {
      "name": "R"
    }
  },
  "cells": [
    {
      "cell_type": "markdown",
      "metadata": {
        "id": "view-in-github",
        "colab_type": "text"
      },
      "source": [
        "<a href=\"https://colab.research.google.com/github/arvind-maurya/Timeseries/blob/main/timeseries.ipynb\" target=\"_parent\"><img src=\"https://colab.research.google.com/assets/colab-badge.svg\" alt=\"Open In Colab\"/></a>"
      ]
    },
    {
      "cell_type": "markdown",
      "source": [
        "A time series data generally contain three components:\n",
        "\n",
        "Trend\n",
        "\n",
        "Seasonality\n",
        "\n",
        "Random component\n",
        "\n",
        "A time series may contain one, two, or all the three components."
      ],
      "metadata": {
        "id": "gRFBMrXedaTZ"
      }
    },
    {
      "cell_type": "code",
      "source": [],
      "metadata": {
        "id": "mB4mBU2Yds30"
      },
      "execution_count": null,
      "outputs": []
    }
  ]
}